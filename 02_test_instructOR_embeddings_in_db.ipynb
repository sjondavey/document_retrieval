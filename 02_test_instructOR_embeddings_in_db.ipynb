{
 "cells": [
  {
   "cell_type": "markdown",
   "metadata": {},
   "source": [
    "I had a problem with the InstructOR model that was difficult to diagnose so I created this toy example to check each step"
   ]
  },
  {
   "cell_type": "code",
   "execution_count": 1,
   "metadata": {},
   "outputs": [
    {
     "data": {
      "text/plain": [
       "(2, 3)"
      ]
     },
     "execution_count": 1,
     "metadata": {},
     "output_type": "execute_result"
    }
   ],
   "source": [
    "import pandas as pd\n",
    "raw_data = pd.read_csv('./inputdata/Mental_Health_FAQ_small.csv')\n",
    "raw_data.shape"
   ]
  },
  {
   "cell_type": "code",
   "execution_count": 2,
   "metadata": {},
   "outputs": [
    {
     "name": "stderr",
     "output_type": "stream",
     "text": [
      "e:\\Code\\kaggle\\mentalhealth\\env\\lib\\site-packages\\InstructorEmbedding\\instructor.py:7: TqdmExperimentalWarning: Using `tqdm.autonotebook.tqdm` in notebook mode. Use `tqdm.tqdm` instead to force console mode (e.g. in jupyter console)\n",
      "  from tqdm.autonotebook import trange\n"
     ]
    },
    {
     "name": "stdout",
     "output_type": "stream",
     "text": [
      "load INSTRUCTOR_Transformer\n",
      "max_seq_length  512\n"
     ]
    }
   ],
   "source": [
    "from InstructorEmbedding import INSTRUCTOR\n",
    "model = INSTRUCTOR('hkunlp/instructor-large')\n",
    "import numpy as np\n",
    "from sklearn.metrics.pairwise import cosine_similarity\n"
   ]
  },
  {
   "cell_type": "code",
   "execution_count": 31,
   "metadata": {},
   "outputs": [
    {
     "name": "stderr",
     "output_type": "stream",
     "text": [
      "Using embedded DuckDB with persistence: data will be stored in: ./db_instructor_large_full_answers_small\n"
     ]
    },
    {
     "name": "stdout",
     "output_type": "stream",
     "text": [
      "running on GPU\n"
     ]
    }
   ],
   "source": [
    "import create_vector_db\n",
    "from create_vector_db import *\n",
    "\n",
    "from importlib import reload\n",
    "reload(create_vector_db)\n",
    "from create_vector_db import *\n",
    "\n",
    "dbf = \"./db_instructor_large_full_answers_small\"\n",
    "my_model = InstructorLargeEmbeddingModel(model,dbf)\n"
   ]
  },
  {
   "cell_type": "markdown",
   "metadata": {},
   "source": [
    "Perform a manual cosine similarity score benchmark using the class functions"
   ]
  },
  {
   "cell_type": "code",
   "execution_count": 48,
   "metadata": {},
   "outputs": [
    {
     "data": {
      "text/plain": [
       "array([[0.88055338, 0.91992657]])"
      ]
     },
     "execution_count": 48,
     "metadata": {},
     "output_type": "execute_result"
    }
   ],
   "source": [
    "query_embeddings = []\n",
    "for i in range(0, len(raw_data)):\n",
    "    query_embeddings.append(my_model.embed_query(raw_data['Questions'][i]))\n",
    "\n",
    "corpus_embeddings = []\n",
    "for i in range(0, len(raw_data)):\n",
    "    corpus_embeddings.append(my_model.embed(raw_data['Answers'][i]))\n",
    "\n",
    "corpus_embeddings_as_nparray = np.array(corpus_embeddings)\n",
    "\n",
    "manual_similarity_scores = []\n",
    "for query_embedding in query_embeddings:\n",
    "    manual_similarity_scores.append(cosine_similarity(np.array(query_embedding).reshape(1,768), corpus_embeddings_as_nparray))\n",
    "\n",
    "manual_similarity_scores[1]"
   ]
  },
  {
   "cell_type": "markdown",
   "metadata": {},
   "source": [
    "Now use the code to do the same thing.  \n",
    "Step 1) Create the ChromaDB"
   ]
  },
  {
   "cell_type": "code",
   "execution_count": 9,
   "metadata": {},
   "outputs": [
    {
     "name": "stderr",
     "output_type": "stream",
     "text": [
      "No embedding_function provided, using default embedding function: SentenceTransformerEmbeddingFunction\n"
     ]
    }
   ],
   "source": [
    "my_model.embed_and_save_knowledge_base(raw_data, 'Answers')"
   ]
  },
  {
   "cell_type": "markdown",
   "metadata": {},
   "source": [
    "Step 2) Since we have embedded the Answers, let's pick a FAQ and see if the database query returns the correct Entry"
   ]
  },
  {
   "cell_type": "code",
   "execution_count": 46,
   "metadata": {},
   "outputs": [
    {
     "name": "stderr",
     "output_type": "stream",
     "text": [
      "No embedding_function provided, using default embedding function: SentenceTransformerEmbeddingFunction\n"
     ]
    }
   ],
   "source": [
    "question = raw_data['Questions'][1]\n",
    "ans=my_model.search_collection_using_text(search_on = 'Answers', text = question, num_docs=2)"
   ]
  },
  {
   "cell_type": "markdown",
   "metadata": {},
   "source": [
    "Add the manual similarity score and check by ensuring the sum is 1.0"
   ]
  },
  {
   "cell_type": "code",
   "execution_count": 49,
   "metadata": {},
   "outputs": [
    {
     "data": {
      "text/html": [
       "<div>\n",
       "<style scoped>\n",
       "    .dataframe tbody tr th:only-of-type {\n",
       "        vertical-align: middle;\n",
       "    }\n",
       "\n",
       "    .dataframe tbody tr th {\n",
       "        vertical-align: top;\n",
       "    }\n",
       "\n",
       "    .dataframe thead th {\n",
       "        text-align: right;\n",
       "    }\n",
       "</style>\n",
       "<table border=\"1\" class=\"dataframe\">\n",
       "  <thead>\n",
       "    <tr style=\"text-align: right;\">\n",
       "      <th></th>\n",
       "      <th>Questions</th>\n",
       "      <th>Answers</th>\n",
       "      <th>Scores</th>\n",
       "      <th>Manual_Similarity_Score</th>\n",
       "      <th>Total_Similarity_Score</th>\n",
       "    </tr>\n",
       "  </thead>\n",
       "  <tbody>\n",
       "    <tr>\n",
       "      <th>0</th>\n",
       "      <td>What are some of the warning signs of mental i...</td>\n",
       "      <td>Symptoms of mental health disorders vary depen...</td>\n",
       "      <td>0.080073</td>\n",
       "      <td>0.919927</td>\n",
       "      <td>1.0</td>\n",
       "    </tr>\n",
       "    <tr>\n",
       "      <th>1</th>\n",
       "      <td>What does it mean to have a mental illness?</td>\n",
       "      <td>Mental illnesses are health conditions that di...</td>\n",
       "      <td>0.119447</td>\n",
       "      <td>0.880553</td>\n",
       "      <td>1.0</td>\n",
       "    </tr>\n",
       "  </tbody>\n",
       "</table>\n",
       "</div>"
      ],
      "text/plain": [
       "                                           Questions   \n",
       "0  What are some of the warning signs of mental i...  \\\n",
       "1        What does it mean to have a mental illness?   \n",
       "\n",
       "                                             Answers    Scores   \n",
       "0  Symptoms of mental health disorders vary depen...  0.080073  \\\n",
       "1  Mental illnesses are health conditions that di...  0.119447   \n",
       "\n",
       "   Manual_Similarity_Score  Total_Similarity_Score  \n",
       "0                 0.919927                     1.0  \n",
       "1                 0.880553                     1.0  "
      ]
     },
     "execution_count": 49,
     "metadata": {},
     "output_type": "execute_result"
    }
   ],
   "source": [
    "ans[\"Manual_Similarity_Score\"] = [cosine_similarity(np.array(my_model.embed_query(question)).reshape(1,768), np.array(my_model.embed(ans[\"Answers\"][i])).reshape(1,768))[0][0] for i in range(len(ans))]\n",
    "ans[\"Total_Similarity_Score\"] = ans[\"Manual_Similarity_Score\"] + ans[\"Scores\"]\n",
    "ans"
   ]
  }
 ],
 "metadata": {
  "kernelspec": {
   "display_name": "Python 3.10.4 ('env': venv)",
   "language": "python",
   "name": "python3"
  },
  "language_info": {
   "codemirror_mode": {
    "name": "ipython",
    "version": 3
   },
   "file_extension": ".py",
   "mimetype": "text/x-python",
   "name": "python",
   "nbconvert_exporter": "python",
   "pygments_lexer": "ipython3",
   "version": "3.10.4"
  },
  "orig_nbformat": 4,
  "vscode": {
   "interpreter": {
    "hash": "d6e0eaf3d792f1180215902c7395801444f509a760b134dd91343d08046f2a83"
   }
  }
 },
 "nbformat": 4,
 "nbformat_minor": 2
}
