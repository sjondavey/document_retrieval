{
 "cells": [
  {
   "cell_type": "code",
   "execution_count": 1,
   "metadata": {},
   "outputs": [
    {
     "name": "stdout",
     "output_type": "stream",
     "text": [
      "running on GPU\n"
     ]
    }
   ],
   "source": [
    "import torch\n",
    "import torch.nn.functional as F\n",
    "\n",
    "from torch import Tensor\n",
    "from transformers import AutoTokenizer, AutoModel\n",
    "\n",
    "if torch.cuda.is_available():\n",
    "    device = torch.device('cuda')\n",
    "    print('running on GPU')    \n",
    "else:\n",
    "    device = torch.device('cpu')\n",
    "    print('running on CPU')\n"
   ]
  },
  {
   "cell_type": "code",
   "execution_count": 2,
   "metadata": {},
   "outputs": [],
   "source": [
    "query  = ['If I become involved in treatment, what do I need to know?']\n",
    "\n",
    "corpus = ['Feeling comfortable with the professional you or your child is working with is critical to the success of your treatment. Finding the professional who best fits your needs may require some research.',\n",
    "          'There are many types of mental health professionals. Finding the right one for you may require some research.',\n",
    "          'There are many types of mental health professionals. The variety of providers and their services may be confusing. Each have various levels of education, training, and may have different areas of expertise. Finding the professional who best fits your needs may require some research.',\n",
    "          'When healing from mental illness, early identification and treatment are of vital importance. Based on the nature of the illness, there are a range of effective treatments available. For any type of treatment, it is essential that the person affected is proactive and fully engaged in their own recovery process.\\nMany people with mental illnesses who are diagnosed and treated respond well, although some might experience a return of symptoms. Even in such cases, with careful monitoring and management of the disorder, it is still quite possible to live a fulfilled and productive life.']"
   ]
  },
  {
   "cell_type": "code",
   "execution_count": 3,
   "metadata": {},
   "outputs": [],
   "source": [
    "# iterate over the query list and append the string 'query: ' to the start of each item. Same the list as query_e5\n",
    "query_e5 = ['query: ' + x for x in query]\n",
    "\n",
    "# iterate over the corpus list and append the string 'corpus: ' to the start of each item. Same the list as corpus_e5\n",
    "corpus_e5 = ['passage: ' + x for x in corpus]"
   ]
  },
  {
   "cell_type": "code",
   "execution_count": 8,
   "metadata": {},
   "outputs": [],
   "source": [
    "tokenizer = AutoTokenizer.from_pretrained('intfloat/e5-large-v2')\n",
    "model = AutoModel.from_pretrained('intfloat/e5-large-v2')"
   ]
  },
  {
   "cell_type": "code",
   "execution_count": 4,
   "metadata": {},
   "outputs": [],
   "source": [
    "def average_pool(last_hidden_states: Tensor,\n",
    "                 attention_mask: Tensor) -> Tensor:\n",
    "    last_hidden = last_hidden_states.masked_fill(~attention_mask[..., None].bool(), 0.0)\n",
    "    return last_hidden.sum(dim=1) / attention_mask.sum(dim=1)[..., None]\n"
   ]
  },
  {
   "cell_type": "code",
   "execution_count": 9,
   "metadata": {},
   "outputs": [],
   "source": [
    "batch_query_dict = tokenizer(query_e5, max_length=512, padding=True, truncation=True, return_tensors='pt')\n",
    "outputs = model(**batch_query_dict)\n",
    "embeddings = average_pool(outputs.last_hidden_state, batch_query_dict['attention_mask'])\n",
    "query_embeddings_as_nparray = F.normalize(embeddings, p=2, dim=1).detach().numpy()"
   ]
  },
  {
   "cell_type": "code",
   "execution_count": 10,
   "metadata": {},
   "outputs": [
    {
     "data": {
      "text/plain": [
       "(1, 1024)"
      ]
     },
     "execution_count": 10,
     "metadata": {},
     "output_type": "execute_result"
    }
   ],
   "source": [
    "query_embeddings_as_nparray.shape"
   ]
  },
  {
   "cell_type": "code",
   "execution_count": 48,
   "metadata": {},
   "outputs": [],
   "source": [
    "batch_corpus_dict = tokenizer(corpus_e5, max_length=512, padding=True, truncation=True, return_tensors='pt')\n",
    "outputs = model(**batch_corpus_dict)\n",
    "embeddings = average_pool(outputs.last_hidden_state, batch_corpus_dict['attention_mask'])\n",
    "#get the embeddings as a numpy array where each row is a vector of dimension 768\n",
    "corpus_embeddings_as_nparray = F.normalize(embeddings, p=2, dim=1).detach().numpy()\n"
   ]
  },
  {
   "cell_type": "code",
   "execution_count": 47,
   "metadata": {},
   "outputs": [
    {
     "data": {
      "text/plain": [
       "(4, 768)"
      ]
     },
     "execution_count": 47,
     "metadata": {},
     "output_type": "execute_result"
    }
   ],
   "source": [
    "corpus_embeddings_as_nparray.shape\n",
    "\n",
    "#convert corpus_embeddings_as_nparray from a torch tensor of size (4, 768) to a numpy array of size (4, 768)\n",
    "corpus_embeddings_as_nparray = corpus_embeddings_as_nparray.detach().numpy()\n",
    "corpus_embeddings_as_nparray.shape\n"
   ]
  },
  {
   "cell_type": "code",
   "execution_count": 50,
   "metadata": {},
   "outputs": [],
   "source": [
    "from sklearn.metrics.pairwise import cosine_similarity"
   ]
  },
  {
   "cell_type": "code",
   "execution_count": 51,
   "metadata": {},
   "outputs": [
    {
     "data": {
      "text/plain": [
       "array([[0.8379889 , 0.77799237, 0.7885269 , 0.8345152 ]], dtype=float32)"
      ]
     },
     "execution_count": 51,
     "metadata": {},
     "output_type": "execute_result"
    }
   ],
   "source": [
    "cosine_similarity(query_embeddings_as_nparray, corpus_embeddings_as_nparray)"
   ]
  },
  {
   "cell_type": "code",
   "execution_count": null,
   "metadata": {},
   "outputs": [],
   "source": []
  }
 ],
 "metadata": {
  "kernelspec": {
   "display_name": "Python 3.10.4 ('env': venv)",
   "language": "python",
   "name": "python3"
  },
  "language_info": {
   "codemirror_mode": {
    "name": "ipython",
    "version": 3
   },
   "file_extension": ".py",
   "mimetype": "text/x-python",
   "name": "python",
   "nbconvert_exporter": "python",
   "pygments_lexer": "ipython3",
   "version": "3.10.4"
  },
  "orig_nbformat": 4,
  "vscode": {
   "interpreter": {
    "hash": "d6e0eaf3d792f1180215902c7395801444f509a760b134dd91343d08046f2a83"
   }
  }
 },
 "nbformat": 4,
 "nbformat_minor": 2
}
