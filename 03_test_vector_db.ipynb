{
 "cells": [
  {
   "cell_type": "markdown",
   "metadata": {},
   "source": [
    "Check the InstructOR 'advanced' case confirm the behaviour of the vector database.\n",
    "\n",
    "In addition, since we test three different models, and two different uses of the InstructOR model, looking at the range of the similarity scores over even this very small example gives an indication of the relative performance of the embedding models. Better models should have a wider range between matching and non-matching answers."
   ]
  },
  {
   "cell_type": "code",
   "execution_count": 143,
   "metadata": {},
   "outputs": [],
   "source": [
    "query  = ['If I become involved in treatment, what do I need to know?']\n",
    "\n",
    "corpus = ['Feeling comfortable with the professional you or your child is working with is critical to the success of your treatment. Finding the professional who best fits your needs may require some research.',\n",
    "          'There are many types of mental health professionals. Finding the right one for you may require some research.',\n",
    "          'There are many types of mental health professionals. The variety of providers and their services may be confusing. Each have various levels of education, training, and may have different areas of expertise. Finding the professional who best fits your needs may require some research.',\n",
    "          'When healing from mental illness, early identification and treatment are of vital importance. Based on the nature of the illness, there are a range of effective treatments available. For any type of treatment, it is essential that the person affected is proactive and fully engaged in their own recovery process.\\nMany people with mental illnesses who are diagnosed and treated respond well, although some might experience a return of symptoms. Even in such cases, with careful monitoring and management of the disorder, it is still quite possible to live a fulfilled and productive life.']"
   ]
  },
  {
   "cell_type": "code",
   "execution_count": 32,
   "metadata": {},
   "outputs": [],
   "source": [
    "import numpy as np\n",
    "import pandas as pd\n",
    "from sklearn.metrics.pairwise import cosine_similarity"
   ]
  },
  {
   "cell_type": "markdown",
   "metadata": {},
   "source": [
    "all_MiniLM_L6_v2 is easy to use and fast. Having a working example with this, allows for easy debugging. It also gives a benchmark in terms of how vector embeddings differentiate between matching and non-matching answers."
   ]
  },
  {
   "cell_type": "code",
   "execution_count": 2,
   "metadata": {},
   "outputs": [],
   "source": [
    "from sentence_transformers import SentenceTransformer\n",
    "all_MiniLM_L6_v2 = SentenceTransformer('sentence-transformers/all-MiniLM-L6-v2')\n",
    "\n",
    "# returns embedding as an numpy.ndarray\n",
    "def embed_all_MiniLM_L6_v2(text):\n",
    "    text = text.replace(\"\\n\", \" \")\n",
    "    return all_MiniLM_L6_v2.encode(text).reshape(1,384)\n"
   ]
  },
  {
   "cell_type": "markdown",
   "metadata": {},
   "source": [
    "Calculate the distance manually between the query and the 4 answers that make up the knowledge base corpus"
   ]
  },
  {
   "cell_type": "code",
   "execution_count": 153,
   "metadata": {},
   "outputs": [
    {
     "name": "stdout",
     "output_type": "stream",
     "text": [
      "Similarity scores: [[0.33290067 0.3841326  0.34424317 0.40948355]]\n",
      "Similarity Range: 0.07658288\n"
     ]
    }
   ],
   "source": [
    "query_embedding_all_MiniLM_L6_v2 = embed_all_MiniLM_L6_v2(query[0])\n",
    "corpus_embedding_all_miniLM_L6_v2 = np.concatenate([embed_all_MiniLM_L6_v2(str(x)) for x in corpus])\n",
    "manual_similarity = cosine_similarity(query_embedding_all_MiniLM_L6_v2, corpus_embedding_all_miniLM_L6_v2)\n",
    "print(\"Similarity scores: \" + str(manual_similarity))\n",
    "print(\"Similarity Range: \" + str(manual_similarity.max() - manual_similarity.min()))"
   ]
  },
  {
   "cell_type": "markdown",
   "metadata": {},
   "source": [
    "Perform a similar calculation using the OpenAI embedding example. This is only here for completeness, it really does not add anything to the exercise"
   ]
  },
  {
   "cell_type": "code",
   "execution_count": 107,
   "metadata": {},
   "outputs": [],
   "source": [
    "import openai\n",
    "openai.api_key = os.getenv(\"OPENAI_API_KEY\")\n",
    "openAIAda =\"text-embedding-ada-002\"\n",
    "\n",
    "def embed_ada(text):\n",
    "    text = text.replace(\"\\n\", \" \")\n",
    "    ans_as_list = openai.Embedding.create(input = [text], model=openAIAda)['data'][0]['embedding']\n",
    "    return np.array(ans_as_list).reshape(1,1536)\n"
   ]
  },
  {
   "cell_type": "code",
   "execution_count": 152,
   "metadata": {},
   "outputs": [
    {
     "name": "stdout",
     "output_type": "stream",
     "text": [
      "Base Similarity Score: [[0.80554999 0.78572934 0.77822775 0.80581569]]\n",
      "Similarity Range: 0.027587943818157212\n"
     ]
    }
   ],
   "source": [
    "query_embedding_ada = embed_ada(query[0])\n",
    "corpus_embedding_ada = np.concatenate([embed_ada(str(x)) for x in corpus])\n",
    "manual_similarity = cosine_similarity(query_embedding_ada, corpus_embedding_ada)\n",
    "manual_similarity\n",
    "print(\"Base Similarity Score: \" + str(manual_similarity))\n",
    "print(\"Similarity Range: \" + str(manual_similarity.max() - manual_similarity.min()))\n"
   ]
  },
  {
   "cell_type": "markdown",
   "metadata": {},
   "source": [
    "The InstructOR series of embedding models can be used naively (called 'base' below) or with a set of instructions. Using the instructions improves the model performance but care needs to be taken to include the correct number of square brackets when moving to the advanced version of the Embedding Model"
   ]
  },
  {
   "cell_type": "code",
   "execution_count": 134,
   "metadata": {},
   "outputs": [
    {
     "name": "stdout",
     "output_type": "stream",
     "text": [
      "load INSTRUCTOR_Transformer\n",
      "max_seq_length  512\n"
     ]
    }
   ],
   "source": [
    "from InstructorEmbedding import INSTRUCTOR\n",
    "instructor_embedding_large = INSTRUCTOR('hkunlp/instructor-large')\n",
    "\n",
    "def embed_instructor_base(text):\n",
    "    text = text.replace(\"\\n\", \" \")\n",
    "    return instructor_embedding_large.encode([text])[0].reshape(1,768)\n",
    "\n",
    "# For the Advanced case, where we preface the text with an instruction, we create separate functions to embed the knowledge base and the queries \n",
    "# NB, check the usage of square brackets in the input to the encode function\n",
    "def embed_instructor_corpus(text):\n",
    "    text = text.replace(\"\\n\", \" \")\n",
    "    return instructor_embedding_large.encode([['Represent the Medical document for retrieval: ', text]])[0].reshape(1,768)\n",
    "\n",
    "def embed_instructor_query(text):\n",
    "    text = text.replace(\"\\n\", \" \")\n",
    "    return instructor_embedding_large.encode([['Represent the Medical question for retrieving supporting documents: ', text]])[0].reshape(1,768)\n"
   ]
  },
  {
   "cell_type": "code",
   "execution_count": 151,
   "metadata": {},
   "outputs": [
    {
     "name": "stdout",
     "output_type": "stream",
     "text": [
      "Base Similarity Score: [[0.88351697 0.8718145  0.86523116 0.88637376]]\n",
      "Similarity Range: 0.021142602\n",
      "Advanced: [[0.8625516  0.8537026  0.8550642  0.88183063]]\n",
      "Similarity Range: 0.028128028\n",
      "Notice the increased similarity score range for the advanced model.\n"
     ]
    }
   ],
   "source": [
    "query_embedding_instructor_base = embed_instructor_base(query[0])\n",
    "corpus_embedding_instructor_base = np.concatenate([embed_instructor_base(str(x)) for x in corpus])\n",
    "manual_similarity = cosine_similarity(query_embedding_instructor_base, corpus_embedding_instructor_base)\n",
    "print(\"Base Similarity Score: \" + str(manual_similarity))\n",
    "print(\"Similarity Range: \" + str(manual_similarity.max() - manual_similarity.min()))\n",
    "\n",
    "query_embedding_instructor_advanced = embed_instructor_query(query[0])\n",
    "corpus_embedding_instructor_advanced = np.concatenate([embed_instructor_corpus(str(x)) for x in corpus])\n",
    "manual_similarity_advanced = cosine_similarity(query_embedding_instructor_advanced, corpus_embedding_instructor_advanced)\n",
    "manual_similarity_advanced\n",
    "print(\"Advanced: \" + str(manual_similarity_advanced))\n",
    "print(\"Similarity Range: \" + str(manual_similarity_advanced.max() - manual_similarity_advanced.min()))\n",
    "\n",
    "\n",
    "print(\"Notice the increased similarity score range for the advanced model.\")\n",
    "\n"
   ]
  },
  {
   "cell_type": "code",
   "execution_count": 137,
   "metadata": {},
   "outputs": [
    {
     "name": "stderr",
     "output_type": "stream",
     "text": [
      "Using embedded DuckDB without persistence: data will be transient\n",
      "No embedding_function provided, using default embedding function: SentenceTransformerEmbeddingFunction\n",
      "No embedding_function provided, using default embedding function: SentenceTransformerEmbeddingFunction\n",
      "No embedding_function provided, using default embedding function: SentenceTransformerEmbeddingFunction\n",
      "No embedding_function provided, using default embedding function: SentenceTransformerEmbeddingFunction\n"
     ]
    }
   ],
   "source": [
    "import chromadb\n",
    "import uuid # to generate unique ids for each entry into the database - these should be something like the FAQ id\n",
    "\n",
    "# in-memory database\n",
    "client = chromadb.Client()\n",
    "collection_all_MiniLM_L6_v2 = client.create_collection(name=\"all_MiniLM_L6_v2\", metadata={\"hnsw:space\": \"cosine\"})\n",
    "\n",
    "# add each row from corpus_embedding_all_miniLM_L6_v2 to the collection\n",
    "for i in range(corpus_embedding_all_miniLM_L6_v2.shape[0]):\n",
    "    collection_all_MiniLM_L6_v2.add(embeddings=corpus_embedding_all_miniLM_L6_v2[i].tolist(), \n",
    "                                    documents=[corpus[i]],\n",
    "                                    ids = [str(uuid.uuid1())])\n",
    "\n",
    "collection_instructor_base = client.create_collection(name=\"instructor_base\", metadata={\"hnsw:space\": \"cosine\"})\n",
    "for i in range(corpus_embedding_instructor_base.shape[0]):\n",
    "    collection_instructor_base.add(embeddings=corpus_embedding_instructor_base[i].tolist(), \n",
    "                                    documents=[corpus[i]],\n",
    "                                    ids = [str(uuid.uuid1())])\n",
    "\n",
    "collection_instructor_advanced = client.create_collection(name=\"instructor_advanced\", metadata={\"hnsw:space\": \"cosine\"})\n",
    "for i in range(corpus_embedding_instructor_advanced.shape[0]):\n",
    "    collection_instructor_advanced.add(embeddings=corpus_embedding_instructor_advanced[i].tolist(), \n",
    "                                    documents=[corpus[i]],\n",
    "                                    ids = [str(uuid.uuid1())])\n",
    "                                    \n",
    "\n",
    "collection_ada = client.create_collection(name=\"ada\", metadata={\"hnsw:space\": \"cosine\"})\n",
    "for i in range(corpus_embedding_ada.shape[0]):\n",
    "    collection_ada.add(embeddings=corpus_embedding_ada[i].tolist(), \n",
    "                                    documents=[corpus[i]],\n",
    "                                    ids = [str(uuid.uuid1())])\n",
    "                                    \n"
   ]
  },
  {
   "cell_type": "code",
   "execution_count": 154,
   "metadata": {},
   "outputs": [],
   "source": [
    "def search_collection_using_embedding(collection, embedding, num_docs):\n",
    "    results = collection.query(query_embeddings=embedding, n_results=num_docs)\n",
    "    df = pd.DataFrame({\"Answer\": results['documents'][0],\n",
    "                        \"Score\":results['distances'][0]})\n",
    "    return df\n"
   ]
  },
  {
   "cell_type": "code",
   "execution_count": 138,
   "metadata": {},
   "outputs": [],
   "source": [
    "results_all_MiniLM_L6_v2 = search_collection_using_embedding(collection = collection_all_MiniLM_L6_v2, embedding = embed_all_MiniLM_L6_v2(query[0]).tolist(), num_docs=4)\n",
    "results_instructor_base = search_collection_using_embedding(collection = collection_instructor_base, embedding = embed_instructor_base(query[0]).tolist(), num_docs=4)\n",
    "results_instructor_advanced = search_collection_using_embedding(collection = collection_instructor_advanced, embedding = embed_instructor_query(query[0]).tolist(), num_docs=4)\n",
    "results_ada = search_collection_using_embedding(collection = collection_ada, embedding = embed_ada(query[0]).tolist(), num_docs=4)"
   ]
  },
  {
   "cell_type": "code",
   "execution_count": 139,
   "metadata": {},
   "outputs": [],
   "source": [
    "# add the column 'Manual_Score' by iterating though results_df and calling the cosine_similarity on the query_embedding and the results of embedding the value from results_...['Answer]\n",
    "results_all_MiniLM_L6_v2['Manual_Score'] = [cosine_similarity(query_embedding_all_MiniLM_L6_v2, embed_all_MiniLM_L6_v2(x))[0][0] for x in results_all_MiniLM_L6_v2['Answer']]\n",
    "results_instructor_base['Manual_Score'] = [cosine_similarity(query_embedding_instructor_base, embed_instructor_base(x))[0][0] for x in results_instructor_base['Answer']]\n",
    "results_instructor_advanced['Manual_Score'] = [cosine_similarity(query_embedding_instructor_advanced, embed_instructor_corpus(x))[0][0] for x in results_instructor_advanced['Answer']]\n",
    "results_ada['Manual_Score'] = [cosine_similarity(query_embedding_ada, embed_ada(x))[0][0] for x in results_ada['Answer']]"
   ]
  },
  {
   "cell_type": "code",
   "execution_count": 140,
   "metadata": {},
   "outputs": [],
   "source": [
    "results_all_MiniLM_L6_v2['Total_Score'] = results_all_MiniLM_L6_v2['Score'] + results_all_MiniLM_L6_v2['Manual_Score']\n",
    "results_instructor_base['Total_Score'] = results_instructor_base['Score'] + results_instructor_base['Manual_Score']\n",
    "results_instructor_advanced['Total_Score'] = results_instructor_advanced['Score'] + results_instructor_advanced['Manual_Score']\n",
    "results_ada['Total_Score'] = results_ada['Score'] + results_ada['Manual_Score']"
   ]
  },
  {
   "cell_type": "code",
   "execution_count": 141,
   "metadata": {},
   "outputs": [
    {
     "data": {
      "text/html": [
       "<div>\n",
       "<style scoped>\n",
       "    .dataframe tbody tr th:only-of-type {\n",
       "        vertical-align: middle;\n",
       "    }\n",
       "\n",
       "    .dataframe tbody tr th {\n",
       "        vertical-align: top;\n",
       "    }\n",
       "\n",
       "    .dataframe thead th {\n",
       "        text-align: right;\n",
       "    }\n",
       "</style>\n",
       "<table border=\"1\" class=\"dataframe\">\n",
       "  <thead>\n",
       "    <tr style=\"text-align: right;\">\n",
       "      <th></th>\n",
       "      <th>Answer</th>\n",
       "      <th>Score</th>\n",
       "      <th>Manual_Score</th>\n",
       "      <th>Total_Score</th>\n",
       "    </tr>\n",
       "  </thead>\n",
       "  <tbody>\n",
       "    <tr>\n",
       "      <th>0</th>\n",
       "      <td>When healing from mental illness, early identi...</td>\n",
       "      <td>0.113626</td>\n",
       "      <td>0.886374</td>\n",
       "      <td>1.000000</td>\n",
       "    </tr>\n",
       "    <tr>\n",
       "      <th>1</th>\n",
       "      <td>Feeling comfortable with the professional you ...</td>\n",
       "      <td>0.116483</td>\n",
       "      <td>0.883517</td>\n",
       "      <td>1.000000</td>\n",
       "    </tr>\n",
       "    <tr>\n",
       "      <th>2</th>\n",
       "      <td>There are many types of mental health professi...</td>\n",
       "      <td>0.128185</td>\n",
       "      <td>0.871814</td>\n",
       "      <td>1.000000</td>\n",
       "    </tr>\n",
       "    <tr>\n",
       "      <th>3</th>\n",
       "      <td>There are many types of mental health professi...</td>\n",
       "      <td>0.134768</td>\n",
       "      <td>0.865231</td>\n",
       "      <td>0.999999</td>\n",
       "    </tr>\n",
       "  </tbody>\n",
       "</table>\n",
       "</div>"
      ],
      "text/plain": [
       "                                              Answer     Score  Manual_Score   \n",
       "0  When healing from mental illness, early identi...  0.113626      0.886374  \\\n",
       "1  Feeling comfortable with the professional you ...  0.116483      0.883517   \n",
       "2  There are many types of mental health professi...  0.128185      0.871814   \n",
       "3  There are many types of mental health professi...  0.134768      0.865231   \n",
       "\n",
       "   Total_Score  \n",
       "0     1.000000  \n",
       "1     1.000000  \n",
       "2     1.000000  \n",
       "3     0.999999  "
      ]
     },
     "execution_count": 141,
     "metadata": {},
     "output_type": "execute_result"
    }
   ],
   "source": [
    "results_instructor_base"
   ]
  },
  {
   "cell_type": "code",
   "execution_count": 142,
   "metadata": {},
   "outputs": [
    {
     "data": {
      "text/html": [
       "<div>\n",
       "<style scoped>\n",
       "    .dataframe tbody tr th:only-of-type {\n",
       "        vertical-align: middle;\n",
       "    }\n",
       "\n",
       "    .dataframe tbody tr th {\n",
       "        vertical-align: top;\n",
       "    }\n",
       "\n",
       "    .dataframe thead th {\n",
       "        text-align: right;\n",
       "    }\n",
       "</style>\n",
       "<table border=\"1\" class=\"dataframe\">\n",
       "  <thead>\n",
       "    <tr style=\"text-align: right;\">\n",
       "      <th></th>\n",
       "      <th>Answer</th>\n",
       "      <th>Score</th>\n",
       "      <th>Manual_Score</th>\n",
       "      <th>Total_Score</th>\n",
       "    </tr>\n",
       "  </thead>\n",
       "  <tbody>\n",
       "    <tr>\n",
       "      <th>0</th>\n",
       "      <td>When healing from mental illness, early identi...</td>\n",
       "      <td>0.118170</td>\n",
       "      <td>0.881831</td>\n",
       "      <td>1.0</td>\n",
       "    </tr>\n",
       "    <tr>\n",
       "      <th>1</th>\n",
       "      <td>Feeling comfortable with the professional you ...</td>\n",
       "      <td>0.137449</td>\n",
       "      <td>0.862552</td>\n",
       "      <td>1.0</td>\n",
       "    </tr>\n",
       "    <tr>\n",
       "      <th>2</th>\n",
       "      <td>There are many types of mental health professi...</td>\n",
       "      <td>0.144936</td>\n",
       "      <td>0.855064</td>\n",
       "      <td>1.0</td>\n",
       "    </tr>\n",
       "    <tr>\n",
       "      <th>3</th>\n",
       "      <td>There are many types of mental health professi...</td>\n",
       "      <td>0.146298</td>\n",
       "      <td>0.853703</td>\n",
       "      <td>1.0</td>\n",
       "    </tr>\n",
       "  </tbody>\n",
       "</table>\n",
       "</div>"
      ],
      "text/plain": [
       "                                              Answer     Score  Manual_Score   \n",
       "0  When healing from mental illness, early identi...  0.118170      0.881831  \\\n",
       "1  Feeling comfortable with the professional you ...  0.137449      0.862552   \n",
       "2  There are many types of mental health professi...  0.144936      0.855064   \n",
       "3  There are many types of mental health professi...  0.146298      0.853703   \n",
       "\n",
       "   Total_Score  \n",
       "0          1.0  \n",
       "1          1.0  \n",
       "2          1.0  \n",
       "3          1.0  "
      ]
     },
     "execution_count": 142,
     "metadata": {},
     "output_type": "execute_result"
    }
   ],
   "source": [
    "results_instructor_advanced"
   ]
  },
  {
   "cell_type": "code",
   "execution_count": 126,
   "metadata": {},
   "outputs": [
    {
     "data": {
      "text/html": [
       "<div>\n",
       "<style scoped>\n",
       "    .dataframe tbody tr th:only-of-type {\n",
       "        vertical-align: middle;\n",
       "    }\n",
       "\n",
       "    .dataframe tbody tr th {\n",
       "        vertical-align: top;\n",
       "    }\n",
       "\n",
       "    .dataframe thead th {\n",
       "        text-align: right;\n",
       "    }\n",
       "</style>\n",
       "<table border=\"1\" class=\"dataframe\">\n",
       "  <thead>\n",
       "    <tr style=\"text-align: right;\">\n",
       "      <th></th>\n",
       "      <th>Answer</th>\n",
       "      <th>Score</th>\n",
       "      <th>Manual_Score</th>\n",
       "      <th>Total_Score</th>\n",
       "    </tr>\n",
       "  </thead>\n",
       "  <tbody>\n",
       "    <tr>\n",
       "      <th>0</th>\n",
       "      <td>When healing from mental illness, early identi...</td>\n",
       "      <td>0.194157</td>\n",
       "      <td>0.805804</td>\n",
       "      <td>0.999961</td>\n",
       "    </tr>\n",
       "    <tr>\n",
       "      <th>1</th>\n",
       "      <td>Feeling comfortable with the professional you ...</td>\n",
       "      <td>0.194554</td>\n",
       "      <td>0.805409</td>\n",
       "      <td>0.999963</td>\n",
       "    </tr>\n",
       "    <tr>\n",
       "      <th>2</th>\n",
       "      <td>There are many types of mental health professi...</td>\n",
       "      <td>0.214309</td>\n",
       "      <td>0.785691</td>\n",
       "      <td>1.000000</td>\n",
       "    </tr>\n",
       "    <tr>\n",
       "      <th>3</th>\n",
       "      <td>There are many types of mental health professi...</td>\n",
       "      <td>0.221809</td>\n",
       "      <td>0.778192</td>\n",
       "      <td>1.000001</td>\n",
       "    </tr>\n",
       "  </tbody>\n",
       "</table>\n",
       "</div>"
      ],
      "text/plain": [
       "                                              Answer     Score  Manual_Score   \n",
       "0  When healing from mental illness, early identi...  0.194157      0.805804  \\\n",
       "1  Feeling comfortable with the professional you ...  0.194554      0.805409   \n",
       "2  There are many types of mental health professi...  0.214309      0.785691   \n",
       "3  There are many types of mental health professi...  0.221809      0.778192   \n",
       "\n",
       "   Total_Score  \n",
       "0     0.999961  \n",
       "1     0.999963  \n",
       "2     1.000000  \n",
       "3     1.000001  "
      ]
     },
     "execution_count": 126,
     "metadata": {},
     "output_type": "execute_result"
    }
   ],
   "source": [
    "results_ada"
   ]
  },
  {
   "cell_type": "code",
   "execution_count": 127,
   "metadata": {},
   "outputs": [
    {
     "data": {
      "text/html": [
       "<div>\n",
       "<style scoped>\n",
       "    .dataframe tbody tr th:only-of-type {\n",
       "        vertical-align: middle;\n",
       "    }\n",
       "\n",
       "    .dataframe tbody tr th {\n",
       "        vertical-align: top;\n",
       "    }\n",
       "\n",
       "    .dataframe thead th {\n",
       "        text-align: right;\n",
       "    }\n",
       "</style>\n",
       "<table border=\"1\" class=\"dataframe\">\n",
       "  <thead>\n",
       "    <tr style=\"text-align: right;\">\n",
       "      <th></th>\n",
       "      <th>Answer</th>\n",
       "      <th>Score</th>\n",
       "      <th>Manual_Score</th>\n",
       "      <th>Total_Score</th>\n",
       "    </tr>\n",
       "  </thead>\n",
       "  <tbody>\n",
       "    <tr>\n",
       "      <th>0</th>\n",
       "      <td>When healing from mental illness, early identi...</td>\n",
       "      <td>0.590517</td>\n",
       "      <td>0.409484</td>\n",
       "      <td>1.0</td>\n",
       "    </tr>\n",
       "    <tr>\n",
       "      <th>1</th>\n",
       "      <td>There are many types of mental health professi...</td>\n",
       "      <td>0.615867</td>\n",
       "      <td>0.384133</td>\n",
       "      <td>1.0</td>\n",
       "    </tr>\n",
       "    <tr>\n",
       "      <th>2</th>\n",
       "      <td>There are many types of mental health professi...</td>\n",
       "      <td>0.655757</td>\n",
       "      <td>0.344243</td>\n",
       "      <td>1.0</td>\n",
       "    </tr>\n",
       "    <tr>\n",
       "      <th>3</th>\n",
       "      <td>Feeling comfortable with the professional you ...</td>\n",
       "      <td>0.667099</td>\n",
       "      <td>0.332901</td>\n",
       "      <td>1.0</td>\n",
       "    </tr>\n",
       "  </tbody>\n",
       "</table>\n",
       "</div>"
      ],
      "text/plain": [
       "                                              Answer     Score  Manual_Score   \n",
       "0  When healing from mental illness, early identi...  0.590517      0.409484  \\\n",
       "1  There are many types of mental health professi...  0.615867      0.384133   \n",
       "2  There are many types of mental health professi...  0.655757      0.344243   \n",
       "3  Feeling comfortable with the professional you ...  0.667099      0.332901   \n",
       "\n",
       "   Total_Score  \n",
       "0          1.0  \n",
       "1          1.0  \n",
       "2          1.0  \n",
       "3          1.0  "
      ]
     },
     "execution_count": 127,
     "metadata": {},
     "output_type": "execute_result"
    }
   ],
   "source": [
    "results_all_MiniLM_L6_v2"
   ]
  },
  {
   "cell_type": "code",
   "execution_count": null,
   "metadata": {},
   "outputs": [],
   "source": []
  }
 ],
 "metadata": {
  "kernelspec": {
   "display_name": "Python 3.10.4 ('env': venv)",
   "language": "python",
   "name": "python3"
  },
  "language_info": {
   "codemirror_mode": {
    "name": "ipython",
    "version": 3
   },
   "file_extension": ".py",
   "mimetype": "text/x-python",
   "name": "python",
   "nbconvert_exporter": "python",
   "pygments_lexer": "ipython3",
   "version": "3.10.4"
  },
  "orig_nbformat": 4,
  "vscode": {
   "interpreter": {
    "hash": "d6e0eaf3d792f1180215902c7395801444f509a760b134dd91343d08046f2a83"
   }
  }
 },
 "nbformat": 4,
 "nbformat_minor": 2
}
